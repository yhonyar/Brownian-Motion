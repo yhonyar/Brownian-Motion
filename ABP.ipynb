{
 "cells": [
  {
   "cell_type": "code",
   "execution_count": 11,
   "id": "d266f4bc",
   "metadata": {},
   "outputs": [],
   "source": [
    "import numpy as np\n",
    "import sys"
   ]
  },
  {
   "cell_type": "code",
   "execution_count": 13,
   "id": "b9f09916",
   "metadata": {},
   "outputs": [],
   "source": [
    "class swimmer(object):\n",
    "\t\"\"\"docstring for swimmer\"\"\"\n",
    "\tdef __init__(self, x, y, v, theta, dt, realizations):\n",
    "\t\tsuper(swimmer, self).__init__()\n",
    "\n",
    "\t\tself.y = y\n",
    "\t\tself.x = x\n",
    "\t\tself.v = v\n",
    "\t\tself.r = realizations\n",
    "\t\tself.theta = theta\n",
    "\t\tself.dt = dt\n",
    "\t\tself.count = 0\n",
    "        \n",
    "\tdef euler_maruyama(self):\n",
    "\t\tpass\n",
    "\n",
    "\t\tDt = 0.22\n",
    "\t\tDr = 0.16\n",
    "\n",
    "\t\tself.x += self.v * self.dt * np.cos(self.theta) + np.sqrt(2 * Dt * self.dt) * np.random.randn(self.r)\n",
    "\t\tself.y += self.v * self.dt * np.sin(self.theta) + np.sqrt(2 * Dt * self.dt) * np.random.randn(self.r)\n",
    "\t\tself.theta += np.sqrt(2 * Dr * self.dt) * np.random.randn(self.r)\n",
    "\n",
    "\t\tself.count += 1"
   ]
  },
  {
   "cell_type": "code",
   "execution_count": 9,
   "id": "2e82aab6",
   "metadata": {},
   "outputs": [],
   "source": [
    "def main():\n",
    "\tpass\n",
    "\n",
    "\trealizations = 1000\n",
    "\n",
    "\tx = np.full(realizations, 0.0)\n",
    "\ty = np.full(realizations, 0.5)\n",
    "\ttheta = np.full(realizations, 0.0)\n",
    "\n",
    "\tv = float(sys.argv[1])\n",
    "\tdt  = 0.001\n",
    "\tT = 100.0\n",
    "\n",
    "\ts = swimmer(x, y, v, theta, dt, realizations)\n",
    "\n",
    "\tx_0 = x.copy()\n",
    "\ty_0 = y.copy()\n",
    "\n",
    "\tfor k in range(int(T/dt) + 1):\n",
    "\n",
    "\t\ttim = s.count * s.dt\n",
    "\t\tmsd = np.mean( (s.x - x_0)**2 + (s.y - y_0)**2 )\n",
    "\n",
    "\t\tprint(\"{}\\t{}\".format(tim, msd))\n",
    "\n",
    "\t\ts.euler_maruyama()"
   ]
  },
  {
   "cell_type": "code",
   "execution_count": 10,
   "id": "66cfe6c5",
   "metadata": {},
   "outputs": [
    {
     "ename": "ValueError",
     "evalue": "could not convert string to float: '-f'",
     "output_type": "error",
     "traceback": [
      "\u001b[1;31m---------------------------------------------------------------------------\u001b[0m",
      "\u001b[1;31mValueError\u001b[0m                                Traceback (most recent call last)",
      "Cell \u001b[1;32mIn[10], line 2\u001b[0m\n\u001b[0;32m      1\u001b[0m \u001b[38;5;28;01mif\u001b[39;00m \u001b[38;5;18m__name__\u001b[39m \u001b[38;5;241m==\u001b[39m \u001b[38;5;124m'\u001b[39m\u001b[38;5;124m__main__\u001b[39m\u001b[38;5;124m'\u001b[39m:\n\u001b[1;32m----> 2\u001b[0m \tmain()\n",
      "Cell \u001b[1;32mIn[9], line 10\u001b[0m, in \u001b[0;36mmain\u001b[1;34m()\u001b[0m\n\u001b[0;32m      7\u001b[0m y \u001b[38;5;241m=\u001b[39m np\u001b[38;5;241m.\u001b[39mfull(realizations, \u001b[38;5;241m0.5\u001b[39m)\n\u001b[0;32m      8\u001b[0m theta \u001b[38;5;241m=\u001b[39m np\u001b[38;5;241m.\u001b[39mfull(realizations, \u001b[38;5;241m0.0\u001b[39m)\n\u001b[1;32m---> 10\u001b[0m v \u001b[38;5;241m=\u001b[39m \u001b[38;5;28mfloat\u001b[39m(sys\u001b[38;5;241m.\u001b[39margv[\u001b[38;5;241m1\u001b[39m])\n\u001b[0;32m     11\u001b[0m dt  \u001b[38;5;241m=\u001b[39m \u001b[38;5;241m0.001\u001b[39m\n\u001b[0;32m     12\u001b[0m T \u001b[38;5;241m=\u001b[39m \u001b[38;5;241m100.0\u001b[39m\n",
      "\u001b[1;31mValueError\u001b[0m: could not convert string to float: '-f'"
     ]
    }
   ],
   "source": [
    "if __name__ == '__main__':\n",
    "\tmain()"
   ]
  },
  {
   "cell_type": "code",
   "execution_count": 7,
   "id": "a99c7e1c",
   "metadata": {},
   "outputs": [
    {
     "name": "stdout",
     "output_type": "stream",
     "text": [
      "'-f' is not a valid number.\n"
     ]
    }
   ],
   "source": [
    "import sys\n",
    "\n",
    "try:\n",
    "    # Attempt to convert the argument to a float\n",
    "    num = float(sys.argv[1])\n",
    "    print(f\"Converted number: {num}\")\n",
    "except ValueError:\n",
    "    print(f\"'{sys.argv[1]}' is not a valid number.\")"
   ]
  },
  {
   "cell_type": "code",
   "execution_count": 15,
   "id": "c1761bbe",
   "metadata": {},
   "outputs": [
    {
     "data": {
      "text/plain": [
       "94140"
      ]
     },
     "execution_count": 15,
     "metadata": {},
     "output_type": "execute_result"
    }
   ],
   "source": [
    "np.random.randint(100000)"
   ]
  },
  {
   "cell_type": "code",
   "execution_count": null,
   "id": "d6d8ddf3",
   "metadata": {},
   "outputs": [],
   "source": []
  }
 ],
 "metadata": {
  "kernelspec": {
   "display_name": "Python 3 (ipykernel)",
   "language": "python",
   "name": "python3"
  },
  "language_info": {
   "codemirror_mode": {
    "name": "ipython",
    "version": 3
   },
   "file_extension": ".py",
   "mimetype": "text/x-python",
   "name": "python",
   "nbconvert_exporter": "python",
   "pygments_lexer": "ipython3",
   "version": "3.11.4"
  }
 },
 "nbformat": 4,
 "nbformat_minor": 5
}
