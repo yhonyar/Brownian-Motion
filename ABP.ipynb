{
 "cells": [
  {
   "cell_type": "code",
   "execution_count": 1,
   "id": "d266f4bc",
   "metadata": {},
   "outputs": [],
   "source": [
    "import numpy as np\n",
    "import sys\n",
    "#sys.argv = ['ABP.py']"
   ]
  },
  {
   "cell_type": "code",
   "execution_count": 2,
   "id": "b9f09916",
   "metadata": {},
   "outputs": [],
   "source": [
    "class swimmer(object):\n",
    "\t\"\"\"docstring for swimmer\"\"\"\n",
    "\tdef __init__(self, x, y, v, theta, dt, realizations):\n",
    "\t\tsuper(swimmer, self).__init__()\n",
    "\n",
    "\t\tself.y = y\n",
    "\t\tself.x = x\n",
    "\t\tself.v = v\n",
    "\t\tself.r = realizations\n",
    "\t\tself.theta = theta\n",
    "\t\tself.dt = dt\n",
    "\t\tself.count = 0\n",
    "        \n",
    "\tdef euler_maruyama(self):\n",
    "\t\tpass\n",
    "\n",
    "\t\tDt = 0.22\n",
    "\t\tDr = 0.16\n",
    "\n",
    "\t\tself.x += self.v * self.dt * np.cos(self.theta) + np.sqrt(2 * Dt * self.dt) * np.random.randn(self.r)\n",
    "\t\tself.y += self.v * self.dt * np.sin(self.theta) + np.sqrt(2 * Dt * self.dt) * np.random.randn(self.r)\n",
    "\t\tself.theta += np.sqrt(2 * Dr * self.dt) * np.random.randn(self.r)\n",
    "\n",
    "\t\tself.count += 1"
   ]
  },
  {
   "cell_type": "code",
   "execution_count": 3,
   "id": "2e82aab6",
   "metadata": {},
   "outputs": [],
   "source": [
    "def main():\n",
    "    pass\n",
    "    \n",
    "    realizations = 1000\n",
    "    \n",
    "    x = np.full(realizations, 0.0)\n",
    "    y = np.full(realizations, 0.5)    \n",
    "    theta = np.full(realizations, 0.0)\n",
    "    \n",
    "    v = float(sys.argv[1])#float(input(\"Enter a value for v: \"))\n",
    "    \n",
    "    dt  = 0.1\n",
    "    T = 1000.0\n",
    "    \n",
    "    s = swimmer(x, y, v, theta, dt, realizations)\n",
    "\n",
    "    x_0 = x.copy()\n",
    "    y_0 = y.copy()\n",
    "    \n",
    "    tim_list = []\n",
    "    msd_list = []\n",
    "    \n",
    "    for k in range(int(T/dt) + 1):\n",
    "        tim = s.count * s.dt\n",
    "        msd = np.mean( (s.x - x_0)**2 + (s.y - y_0)**2 )\n",
    "        \n",
    "        tim_list.append(tim)\n",
    "        msd_list.append(msd)\n",
    "        \n",
    "        #print(\"{}\\t{}\".format(tim, msd))\n",
    "        \n",
    "        s.euler_maruyama()\n",
    "    return tim_list, msd_list"
   ]
  },
  {
   "cell_type": "code",
   "execution_count": 4,
   "id": "adf5c369",
   "metadata": {},
   "outputs": [
    {
     "ename": "ValueError",
     "evalue": "could not convert string to float: '-f'",
     "output_type": "error",
     "traceback": [
      "\u001b[1;31m---------------------------------------------------------------------------\u001b[0m",
      "\u001b[1;31mValueError\u001b[0m                                Traceback (most recent call last)",
      "\u001b[1;32m~\\AppData\\Local\\Temp\\ipykernel_29712\\4042668691.py\u001b[0m in \u001b[0;36m<module>\u001b[1;34m\u001b[0m\n\u001b[1;32m----> 1\u001b[1;33m \u001b[0mtime\u001b[0m\u001b[1;33m,\u001b[0m \u001b[0mmsd2D\u001b[0m \u001b[1;33m=\u001b[0m \u001b[0mmain\u001b[0m\u001b[1;33m(\u001b[0m\u001b[1;33m)\u001b[0m\u001b[1;33m\u001b[0m\u001b[1;33m\u001b[0m\u001b[0m\n\u001b[0m",
      "\u001b[1;32m~\\AppData\\Local\\Temp\\ipykernel_29712\\3137539333.py\u001b[0m in \u001b[0;36mmain\u001b[1;34m()\u001b[0m\n\u001b[0;32m      8\u001b[0m     \u001b[0mtheta\u001b[0m \u001b[1;33m=\u001b[0m \u001b[0mnp\u001b[0m\u001b[1;33m.\u001b[0m\u001b[0mfull\u001b[0m\u001b[1;33m(\u001b[0m\u001b[0mrealizations\u001b[0m\u001b[1;33m,\u001b[0m \u001b[1;36m0.0\u001b[0m\u001b[1;33m)\u001b[0m\u001b[1;33m\u001b[0m\u001b[1;33m\u001b[0m\u001b[0m\n\u001b[0;32m      9\u001b[0m \u001b[1;33m\u001b[0m\u001b[0m\n\u001b[1;32m---> 10\u001b[1;33m     \u001b[0mv\u001b[0m \u001b[1;33m=\u001b[0m \u001b[0mfloat\u001b[0m\u001b[1;33m(\u001b[0m\u001b[0msys\u001b[0m\u001b[1;33m.\u001b[0m\u001b[0margv\u001b[0m\u001b[1;33m[\u001b[0m\u001b[1;36m1\u001b[0m\u001b[1;33m]\u001b[0m\u001b[1;33m)\u001b[0m\u001b[1;31m#float(input(\"Enter a value for v: \"))\u001b[0m\u001b[1;33m\u001b[0m\u001b[1;33m\u001b[0m\u001b[0m\n\u001b[0m\u001b[0;32m     11\u001b[0m \u001b[1;33m\u001b[0m\u001b[0m\n\u001b[0;32m     12\u001b[0m     \u001b[0mdt\u001b[0m  \u001b[1;33m=\u001b[0m \u001b[1;36m0.1\u001b[0m\u001b[1;33m\u001b[0m\u001b[1;33m\u001b[0m\u001b[0m\n",
      "\u001b[1;31mValueError\u001b[0m: could not convert string to float: '-f'"
     ]
    }
   ],
   "source": [
    "time, msd2D = main()"
   ]
  },
  {
   "cell_type": "code",
   "execution_count": null,
   "id": "8d54baf6",
   "metadata": {},
   "outputs": [],
   "source": [
    "import seaborn as sns\n",
    "import matplotlib.pyplot as plt\n",
    "\n",
    "# Set Seaborn style\n",
    "sns.set_style(\"whitegrid\")"
   ]
  },
  {
   "cell_type": "code",
   "execution_count": null,
   "id": "b2e67aa4",
   "metadata": {},
   "outputs": [],
   "source": [
    "plt.figure(figsize=(8, 5))\n",
    "sns.lineplot(x=time, y=msd2D, linestyle=\"-\", color=\"b\", label=\"Mean Square Displacement\")\n",
    "\n",
    "# Labels and title\n",
    "plt.xlabel(\"Time\")\n",
    "plt.ylabel(\"MSD\")\n",
    "plt.title(\"Mean Square Displacement Over Time\")\n",
    "plt.legend()\n",
    "plt.show()"
   ]
  },
  {
   "cell_type": "markdown",
   "id": "a62b725d",
   "metadata": {},
   "source": [
    "if __name__ == '__main__':\n",
    "\tmain()"
   ]
  },
  {
   "cell_type": "code",
   "execution_count": null,
   "id": "a99c7e1c",
   "metadata": {},
   "outputs": [],
   "source": [
    "import sys\n",
    "\n",
    "try:\n",
    "    # Attempt to convert the argument to a float\n",
    "    num = float(sys.argv[1])\n",
    "    print(f\"Converted number: {num}\")\n",
    "except ValueError:\n",
    "    print(f\"'{sys.argv[1]}' is not a valid number.\")"
   ]
  },
  {
   "cell_type": "code",
   "execution_count": null,
   "id": "c1761bbe",
   "metadata": {},
   "outputs": [],
   "source": [
    "np.random.randint(100000)"
   ]
  },
  {
   "cell_type": "code",
   "execution_count": null,
   "id": "d6d8ddf3",
   "metadata": {},
   "outputs": [],
   "source": []
  }
 ],
 "metadata": {
  "kernelspec": {
   "display_name": "Python 3 (ipykernel)",
   "language": "python",
   "name": "python3"
  },
  "language_info": {
   "codemirror_mode": {
    "name": "ipython",
    "version": 3
   },
   "file_extension": ".py",
   "mimetype": "text/x-python",
   "name": "python",
   "nbconvert_exporter": "python",
   "pygments_lexer": "ipython3",
   "version": "3.9.13"
  }
 },
 "nbformat": 4,
 "nbformat_minor": 5
}
